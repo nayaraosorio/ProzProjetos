{
  "nbformat": 4,
  "nbformat_minor": 0,
  "metadata": {
    "colab": {
      "provenance": [],
      "authorship_tag": "ABX9TyMt6lVaotWNnjvnjfnq2zT5",
      "include_colab_link": true
    },
    "kernelspec": {
      "name": "python3",
      "display_name": "Python 3"
    },
    "language_info": {
      "name": "python"
    }
  },
  "cells": [
    {
      "cell_type": "markdown",
      "metadata": {
        "id": "view-in-github",
        "colab_type": "text"
      },
      "source": [
        "<a href=\"https://colab.research.google.com/github/nayaraosorio/ProzProjetos/blob/master/Calculadora.ipynb\" target=\"_parent\"><img src=\"https://colab.research.google.com/assets/colab-badge.svg\" alt=\"Open In Colab\"/></a>"
      ]
    },
    {
      "cell_type": "markdown",
      "source": [
        "Faça uma função calculadora de dois números com três parâmetros: os dois primeiros serão os números da operação e o terceiro será a entrada que definirá a operação a ser executada. Considera a seguinte definição:\n",
        "1. Soma\n",
        "2. Subtração\n",
        "3. Multiplicação\n",
        "4. Divisão\n",
        "\n",
        "Caso seja inserido um número de operação que não exista, o resultado deverá ser 0."
      ],
      "metadata": {
        "id": "7Hk4PB02fB2m"
      }
    },
    {
      "cell_type": "code",
      "source": [
        "n1 = int(input('Digite o primeiro valor:\\n'))\n",
        "n2 = int(input('Digite o segundo valor:\\n'))\n",
        "operando = input('Digite o número de acordo com o operando desejado;\\n 1 - Soma\\n 2 - Subtração\\n 3 - Multiplicação\\n 4 - Divisão\\n')\n",
        "\n",
        "if operando == '1':\n",
        "  soma = n1 + n2\n",
        "  print(f'{n1} + {n2} = {soma}')\n",
        "elif operando == '2':\n",
        "  subt = n1 - n2\n",
        "  print(f'{n1} - {n2} = {subt}')\n",
        "elif operando == '3':\n",
        "  multi = n1 * n2\n",
        "  print(f'{n1} * {n2} = {multi}')\n",
        "elif operando == '4':\n",
        "  divisao = n1 / n2\n",
        "  print(f'{n1} / {n2} = {divisao}')"
      ],
      "metadata": {
        "id": "mfiGO9CMfCx1",
        "colab": {
          "base_uri": "https://localhost:8080/"
        },
        "outputId": "e138e4d2-9f8a-44c9-bd01-d8779ea2ad44"
      },
      "execution_count": 5,
      "outputs": [
        {
          "output_type": "stream",
          "name": "stdout",
          "text": [
            "Digite o primeiro valor:\n",
            "2\n",
            "Digite o segundo valor:\n",
            "6\n",
            "Digite o número de acordo com o operando desejado;\n",
            " 1 - Soma\n",
            " 2 - Subtração\n",
            " 3 - Multiplicação\n",
            " 4 - Divisão\n",
            "4\n",
            "2 / 6 = 0.3333333333333333\n"
          ]
        }
      ]
    }
  ]
}